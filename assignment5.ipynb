{
 "metadata": {
  "name": "",
  "signature": "sha256:3a4146f1a1a212baeb946ec7331075415b6868b03ad6cca01aeabdbf21f0969d"
 },
 "nbformat": 3,
 "nbformat_minor": 0,
 "worksheets": [
  {
   "cells": [
    {
     "cell_type": "heading",
     "level": 1,
     "metadata": {},
     "source": [
      "\uc2a4\ud06c\ub9bd\ud2b8 \ud504\ub85c\uadf8\ub798\ubc0d"
     ]
    },
    {
     "cell_type": "heading",
     "level": 2,
     "metadata": {},
     "source": [
      "Assignment 5"
     ]
    },
    {
     "cell_type": "heading",
     "level": 3,
     "metadata": {},
     "source": [
      "2011136080 \uc724\uc9c4\uc625"
     ]
    },
    {
     "cell_type": "heading",
     "level": 3,
     "metadata": {},
     "source": [
      "\uc81c\ucd9c\uc77c : 2014.12. 12"
     ]
    },
    {
     "cell_type": "heading",
     "level": 1,
     "metadata": {},
     "source": [
      " "
     ]
    },
    {
     "cell_type": "heading",
     "level": 4,
     "metadata": {},
     "source": [
      " "
     ]
    },
    {
     "cell_type": "markdown",
     "metadata": {},
     "source": [
      "<b>[1\ubc88 \ubb38\uc81c] \ud074\ub798\uc2a4\uc640 \ubaa8\ub4c8\uc758 \uacf5\ud1b5\uc810\uacfc \ucc28\uc774\uc810\uc5d0 \ub300\ud574 \uc124\uba85\ud558\uc2dc\uc624.</b>"
     ]
    },
    {
     "cell_type": "markdown",
     "metadata": {},
     "source": [
      "\ud074\ub798\uc2a4\ub780 \ud30c\uc77c \ub0b4\uc5d0\uc11c \ud558\ub098\uc758 \uac1d\uccb4\ub97c \uc0dd\uc131\ud558\uae30 \uc704\ud574 \uc0ac\uc6a9\ud558\uba70, \ubaa8\ub4c8\uc740 \ud30c\uc77c \ubc16\uc5d0\uc11c \ud558\ub098\uc758 \ud30c\uc77c(\ubaa8\ub4c8)\uc744 \uc0dd\uc131\ud558\uae30 \uc704\ud574 \uc0ac\uc6a9\ud55c\ub2e4. \ub458 \ub2e4 \ucf54\ub4dc\uc758 \ubc18\ubcf5\uc744 \uc904\uc774\uae30 \uc704\ud574 \uc0ac\uc6a9\ud55c\ub2e4."
     ]
    },
    {
     "cell_type": "heading",
     "level": 1,
     "metadata": {},
     "source": [
      " "
     ]
    },
    {
     "cell_type": "markdown",
     "metadata": {},
     "source": [
      "<b>[2\ubc88 \ubb38\uc81c] \ub2e4\ud615\uc131\uc5d0 \ub300\ud574 \uc124\uba85\ud558\uace0 \ub2e4\ud615\uc131\uc744 \ubcf4\uc5ec\uc8fc\ub294 \uc790\uc2e0\ub9cc\uc758 \ud30c\uc774\uc36c \ucf54\ub4dc \uc608\uc81c\ub97c \uc81c\uc2dc\ud558\uc2dc\uc624.</b>"
     ]
    },
    {
     "cell_type": "code",
     "collapsed": false,
     "input": [
      "class Student:\n",
      "    def major(self):\n",
      "        print '...'\n",
      "        \n",
      "class Cse(Student):\n",
      "    def major(self):\n",
      "        print 'cse'\n",
      "        \n",
      "class Design(Student):\n",
      "    def major(self):\n",
      "        print 'design'\n",
      "        \n",
      "class Mecha(Student):\n",
      "    def major(self):\n",
      "        print 'mecha'\n",
      "\n",
      "for each in (Cse(), Design(), Mecha()):\n",
      "    each.major()"
     ],
     "language": "python",
     "metadata": {},
     "outputs": [
      {
       "output_type": "stream",
       "stream": "stdout",
       "text": [
        "cse\n",
        "design\n",
        "mecha\n"
       ]
      }
     ],
     "prompt_number": 20
    },
    {
     "cell_type": "markdown",
     "metadata": {},
     "source": [
      "\ub2e4\ud615\uc131\uc774\ub780 \uc0dd\uc131\ud55c \uac1d\uccb4\uc5d0 \ub530\ub77c\uc11c \uac19\uc740 \ud568\uc218\ub97c \uc0ac\uc6a9\ud574\ub3c4 \uac1d\uccb4\uc5d0 \ub9de\ub294 \ub2e4\ub978 \uacb0\uacfc\ub4e4\uc774 \ucd9c\ub825\ub418\ub294 \uac83\uc744 \ub9d0\ud55c\ub2e4. "
     ]
    },
    {
     "cell_type": "heading",
     "level": 1,
     "metadata": {},
     "source": [
      " "
     ]
    },
    {
     "cell_type": "markdown",
     "metadata": {},
     "source": [
      "<b>[3\ubc88 \ubb38\uc81c] \ub2e4\uc74c \uac01 \uc694\uad6c\uc0ac\ud56d \ubaa8\ub450\ub97c \ub9cc\uc871\uc2dc\ud0a4\ub294 Counter \ud074\ub798\uc2a4\ub97c \ucf54\ub529\ud558\uc2dc\uc624 (\uc815\ub2f5\uc744 \uac01 \uc694\uad6c\uc0ac\ud56d\ubcc4\ub85c \uc785\ub825\ud560 \ud544\uc694 \uc5c6\uc774 3\ubc88 \ubb38\uc81c\uc5d0 \ub300\ud574 1\uac1c\uc758 \ud074\ub798\uc2a4 \uc815\uc758 \ucf54\ub4dc\ub97c \uc81c\uc2dc\ud558\uba74 \ub41c\ub2e4.)</b>\n",
      " - \uc694\uad6c\uc0ac\ud56d 1. \uc0dd\uc131\uc790\uc5d0 count \uac12\uacfc step \uac12\uc744 \uc778\uc790\ub85c \ubc1b\uc744 \uc218 \uc788\ub2e4.\n",
      " - \uc694\uad6c\uc0ac\ud56d 2. \ub2e4\uc74c\uacfc \uac19\uc774 Counter\uc758 \uc778\uc2a4\ud134\uc2a4\ub97c \ucd9c\ub825\uc744 \ud574\uc8fc\ub294 __str__() \uba54\uc18c\ub4dc\ub97c \uad6c\ud604\ud558\uc2dc\uc624.\n",
      " - \uc694\uad6c\uc0ac\ud56d 3. \ub2e4\uc74c\uacfc \uac19\uc774 step\uc5d0 \uc8fc\uc5b4\uc9c4 \uc99d\ubd84\ub9cc\ud07c count\ub97c \uc99d\uac00\uc2dc\ud0a4\ub294 incr() \uba54\uc18c\ub4dc\ub97c \uad6c\ud604\ud558\uc2dc\uc624.\n",
      " - \uc694\uad6c\uc0ac\ud56d 4. __call__() \uba54\uc18c\ub4dc\ub97c \ucd94\uac00\ud558\uc5ec \uc778\uc2a4\ud134\uc2a4 \uac1d\uccb4\ub97c \uc9c1\uc811 \ud638\ucd9c\ud560 \uc218 \uc788\ub3c4\ub85d \ud558\uc2dc\uc624. \uc778\uc2a4\ud134\uc2a4 \uac1d\uccb4\ub97c \uc9c1\uc811 \ud638\ucd9c\ud588\uc744 \ub54c\uc758 \ub3d9\uc791\ubc29\uc2dd\uc740 incr() \uba54\uc18c\ub4dc\ub97c \ud638\ucd9c\ud558\uc600\uc744 \ub54c\uc640 \ub3d9\uc77c\ud558\ub2e4.\n",
      " - \uc694\uad6c\uc0ac\ud56d 5. \ub2e4\uc74c\uacfc \uac19\uc740 \ub450 \uac1c\uc758 \uc0b0\uc220 \uc5f0\uc0b0 (+, -)\uc774 \uc218\ud589\ub420 \uc218 \uc788\ub3c4\ub85d \uad00\ub828 \uba54\uc18c\ub4dc\ub97c \ucd94\uac00\ud558\uc2dc\uc624.\n",
      " - \uc694\uad6c\uc0ac\ud56d 6. \ub2e4\uc74c\uacfc \uac19\uc740 \uad00\uacc4\uc5f0\uc0b0 (+, -)\uc774 \uc218\ud589\ub420 \uc218 \uc788\ub3c4\ub85d __cmp__() \uba54\uc18c\ub4dc\ub97c \ucd94\uac00\ud558\uc2dc\uc624."
     ]
    },
    {
     "cell_type": "code",
     "collapsed": false,
     "input": [
      "class Counter:\n",
      "    def __init__(self, c, s=1):\n",
      "        self.count = c\n",
      "        self.step = s\n",
      "    def __str__(self):\n",
      "        return '[Counter (step: %d)] %d' %(self.step, self.count)\n",
      "    def incr(self):\n",
      "        self.count += self.step\n",
      "    def __call__(self):\n",
      "        self.count += self.step\n",
      "    def __add__(self, other):\n",
      "        return self.count + other\n",
      "    def __sub__(self, other):\n",
      "        return self.count - other\n",
      "    def __cmp__(self, other):\n",
      "        return self.count - other\n",
      "    \n",
      "c = Counter(10)\n",
      "d = Counter(10, 2)\n",
      "c.incr()\n",
      "d.incr()\n",
      "\n",
      "c()\n",
      "d()\n",
      "print c\n",
      "print d\n",
      "\n",
      "c = c + 5\n",
      "d = d - 5\n",
      "print c\n",
      "print d\n",
      "\n",
      "print c > 10\n",
      "print d > 10\n",
      "print c < 10\n",
      "print d < 10\n",
      "print c == 10\n",
      "print d != 9"
     ],
     "language": "python",
     "metadata": {},
     "outputs": [
      {
       "output_type": "stream",
       "stream": "stdout",
       "text": [
        "[Counter (step: 1)] 12\n",
        "[Counter (step: 2)] 14\n",
        "17\n",
        "9\n",
        "True\n",
        "False\n",
        "False\n",
        "True\n",
        "False\n",
        "False\n"
       ]
      }
     ],
     "prompt_number": 2
    },
    {
     "cell_type": "heading",
     "level": 1,
     "metadata": {},
     "source": [
      " "
     ]
    },
    {
     "cell_type": "markdown",
     "metadata": {},
     "source": [
      "<b>[4\ubc88 \ubb38\uc81c] \ub2e4\uc74c\uc740 \ub0b4\uc7a5 \uc790\ub8cc\ud615 list\ub97c \uc11c\ube0c\ud074\ub798\uc2f1\ud558\uc5ec \ub9cc\ub4e0 MySet \ud074\ub798\uc2a4 \uc815\uc758 \ub0b4\uc6a9\uc774\ub2e4. \ub2e4\uc74c \ud074\ub798\uc2a4 \uc815\uc758\uc5d0\uc11c __init__(), __str()__(), elimicate_duplicate()\uc758 \uc138 \uac1c\uc758 \uba54\uc18c\ub4dc \ucf54\ub4dc \ub0b4\uc6a9\uc744 \uc790\uc2e0\uc774 \ub2e4\ub978 \uc0ac\ub78c\uc5d0\uac8c \uac00\ub974\uce5c\ub2e4\uace0 \uc0dd\uac01\ud558\uba70 \uc124\uba85\ud574\ubcf4\uc2dc\uc624.\n",
      "MySet\uc740 \uc9d1\ud569(Set) \uc790\ub8cc\ud615\uc744 \uc815\uc758\ud558\ub824\ub294 \uc758\ub3c4\ud558\uc5d0 \ub9cc\ub4e4\uc5b4\uc9c4 \ud074\ub798\uc2a4\uc774\ub2e4.</b>"
     ]
    },
    {
     "cell_type": "code",
     "collapsed": false,
     "input": [
      "class MySet(list):\n",
      "    def __init__(self, l):\n",
      "        for e in l:\n",
      "            self.append(e)\n",
      "        MySet.eliminate_duplicate(self)\n",
      "    \n",
      "    def __str__(self):\n",
      "        result = \"MySet: {\"\n",
      "        for e in self:\n",
      "            result = result + str(e) + \" ,\"\n",
      "        result = result[0:len(result)-2] + \"}\"\n",
      "        return result\n",
      "\n",
      "    @staticmethod    \n",
      "    def eliminate_duplicate(l):\n",
      "        s = []\n",
      "        for e in l:\n",
      "            if e not in s:\n",
      "                s.append(e)\n",
      "        l[:] = []\n",
      "        for e in s:\n",
      "            l.append(e)\n",
      "\n",
      "    \n",
      "if __name__ == \"__main__\":\n",
      "    s = MySet([1, 2, 2, 3])\n",
      "    print s\n",
      "    t = MySet([2, 3, 4, 5, 6, 7, 8, 8, 8, 8, 8, 9])\n",
      "    print t"
     ],
     "language": "python",
     "metadata": {},
     "outputs": [
      {
       "output_type": "stream",
       "stream": "stdout",
       "text": [
        "MySet: {1 ,2 ,3}\n",
        "MySet: {2 ,3 ,4 ,5 ,6 ,7 ,8 ,9}\n"
       ]
      }
     ],
     "prompt_number": 1
    },
    {
     "cell_type": "markdown",
     "metadata": {},
     "source": [
      "1. __init__ : init \uba54\uc18c\ub4dc\ub294 \ud074\ub798\uc2a4\ub97c \uc0dd\uc131\ud560 \ub54c \uc790\ub3d9\uc73c\ub85c \ud638\ucd9c\ub418\ub294 \uba54\uc18c\ub4dc\uc774\ub2e4. \uc0dd\uc131\uc790\uc758 \uc778\uc790\ub97c \ubc1b\uc544 \uc9c0\uc5ed\ubcc0\uc218 l\ub85c \uc120\uc5b8\ud55c\ub2e4. MySet \ud074\ub798\uc2a4\ub294 list\ub97c \uc0c1\uc18d\ubc1b\uc544 \ub9cc\ub4e4\uc5c8\uae30 \ub54c\ubb38\uc5d0 list\uc758 \ud2b9\uc131, \uba54\uc18c\ub4dc\ub97c \uac16\ub294\ub2e4. \uc989 append()\uba54\uc18c\ub4dc\ub97c \uc0ac\uc6a9\ud558\uc5ec \ud074\ub798\uc2a4\uac1d\uccb4\uc5d0 \uc6d0\uc18c\ub97c \ucd94\uac00\ud560 \uc218 \uc788\ub2e4. \uc778\uc790\ub85c \ubc1b\uc740 l\uc744 \ud074\ub798\uc2a4\uac1d\uccb4 self\uc5d0 append()\ud558\uc5ec \uc6d0\uc18c\ub4e4\uc744 \ucd94\uac00\ud55c\ub2e4. MySet.eliminate_dupli cate(self)\ub294 \uc544\ub798\uc5d0\uc11c \uc124\uba85\ud55c\ub2e4.\n",
      "2. __str__ : str \uba54\uc18c\ub4dc\ub294 print (Class)\ub97c \uc120\uc5b8\ud558\uc600\uc744 \ub54c \ucd9c\ub825\ub418\ub294 \ub0b4\uc6a9\uc744 \uc0ac\uc6a9\uc790\uac00 \uc815\uc758\ud558\ub294 \ud568\uc218\uc774\ub2e4. MySet\uc5d0\uc11c\ub294 result\ub77c\ub294 \ubb38\uc790\uc5f4 \ubcc0\uc218\ub97c \ubc18\ud658\ud55c\ub2e4. \uc5ec\uae30\uc11c result\ub294 \"MySet : {\"\ub85c \uc2dc\uc791\ud558\uc5ec \ud074\ub798\uc2a4\uac00 \uac16\ub294 \uc2dc\ud000\uc2a4 \uc790\ub8cc\ud615\uc744 \ud558\ub098\ud558\ub098 \ubc1b\uc544 \ubb38\uc790\uc5f4\ub85c \uce58\ud658\ud558\uc5ec \uac12\uc5d0 \ub123\uace0 \uc788\ub2e4. \ub9c8\uc9c0\ub9c9\uc73c\ub85c \ub367\ubd99\uc5ec\uc9c4 \" ,\" \ubd80\ubd84\uc744 \uc2ac\ub77c\uc774\uc2f1\uc73c\ub85c \uc81c\uac70\ud55c \ud6c4 \uc911\uad04\ud638\ub85c \ub2eb\uc544 \ubb38\uc790\uc5f4\uc744 \uc644\uc131\ud55c \ud6c4 \ub9ac\ud134\ud55c\ub2e4.\n",
      "3. __eliminate_duplicate__ : \uc774 \uba54\uc18c\ub4dc\ub294 \ucc98\uc74c \uc0dd\uc131\ud560 \ub54c \ud638\ucd9c\ub418\ub294 \ud568\uc218\uc774\ub2e4. list\ub97c \uc11c\ube0c\ud074\ub798\uc2f1\ud558\ub294 \uc774 \ud074\ub798\uc2a4\uac00 \ub9cc\ub4e4\uace0\uc790 \ud558\ub294 \uc790\ub8cc\ud615\uc740 set(\uc9d1\ud569)\uc774\ub2e4. set\uc740 \uae30\ubcf8\uc801\uc73c\ub85c Immutable \uc6d0\uc18c\ub97c \uc911\ubcf5\ud574\uc11c \uac16\uc9c0 \uc54a\ub294\ub2e4. \uc989 \uc774 \uba54\uc18c\ub4dc\uc5d0\uc11c \ucc98\uc74c \uc0dd\uc131\ud560 \ub54c \ubc1b\uc740 \uc778\uc790 \uc911, \uc911\ubcf5\ub41c \uc778\uc790\ub97c \uc81c\uac70\ud558\ub294 \uacfc\uc815\uc744 \uac70\uce5c\ub2e4. \uc774 \uba54\uc18c\ub4dc\ub294 \uba3c\uc800 \uc0dd\uc131\uc790\ub85c \ub4e4\uc5b4\uc628 \ubaa8\ub4e0 \uc778\uc790\ub97c \uc778\uc790\ub85c \ubc1b\ub294\ub2e4. \uc911\ubcf5\uc6d0\uc18c\ub97c \uc81c\uac70\ud55c \uc6d0\uc18c\ub4e4\uc744 \ubc1b\uc744 \ub9ac\uc2a4\ud2b8\ub97c \uba3c\uc800 \uc120\uc5b8\ud55c \ud6c4, \ub9ac\uc2a4\ud2b8\uc5d0 \ub4e4\uc5b4\uc788\uc9c0 \uc54a\uc740 \uc6d0\uc18c\ub4e4\ub9cc\uc744 append()\ud558\uc5ec \ucd94\uac00\ud55c\ub2e4. \uae30\uc874\uc5d0 \ub118\uc5b4\uc628 \uc6d0\uc18c \ub9ac\uc2a4\ud2b8 l\uc744 \ube48 \ub9ac\uc2a4\ud2b8\ub85c \ub9cc\ub4e0 \ud6c4, \uc784\uc2dc\ub85c \uc6d0\uc18c\ub4e4\uc744 \ubc1b\uc544\ub193\uc740 \ub9ac\uc2a4\ud2b8\uc5d0\uc11c \ud558\ub098\uc529 \uaebc\ub0b4 l\uc5d0 \ub2e4\uc2dc append()\ud55c\ub2e4."
     ]
    },
    {
     "cell_type": "heading",
     "level": 1,
     "metadata": {},
     "source": [
      " "
     ]
    },
    {
     "cell_type": "markdown",
     "metadata": {},
     "source": [
      "<b>[5\ubc88 \ubb38\uc81c] 4\ubc88 \ubb38\uc81c\uc5d0 \uc815\uc758\ub41c MySet \ud074\ub798\uc2a4\uc5d0 \uba54\uc18c\ub4dc\ub97c \ucd94\uac00\ud558\uc5ec \ub2e4\uc74c \uac01 \uc694\uad6c\uc0ac\ud56d \ubaa8\ub450\ub97c \ub9cc\uc871\uc2dc\ud0a4\ub294 \ucf54\ub529\uc744 \uc81c\uc2dc\ud558\uc2dc\uc624 (\uc815\ub2f5\uc744 \uac01 \uc694\uad6c\uc0ac\ud56d\ubcc4\ub85c \uc785\ub825\ud560 \ud544\uc694 \uc5c6\uc774 5\ubc88 \ubb38\uc81c\uc5d0 \ub300\ud574 1\uac1c\uc758 MySet \ud074\ub798\uc2a4 \uc815\uc758 \ucf54\ub4dc\ub97c \uc81c\uc2dc\ud558\uba74 \ub41c\ub2e4.)</b>\n",
      " - \uc694\uad6c\uc0ac\ud56d 1. | \uc5f0\uc0b0\uc73c\ub85c \ub450 \uc9d1\ud569\uc758 \ud569\uc9d1\ud569\uc744 \ubc18\ud658\ud55c\ub2e4.\n",
      " - \uc694\uad6c\uc0ac\ud56d 2. & \uc5f0\uc0b0\uc73c\ub85c \ub450 \uc9d1\ud569\uc758 \uad50\uc9d1\ud569\uc744 \ubc18\ud658\ud55c\ub2e4.\n",
      " - \uc694\uad6c\uc0ac\ud56d 3. - \uc5f0\uc0b0\uc73c\ub85c \ub450 \uc9d1\ud569\uc758 \ucc28\uc9d1\ud569\uc744 \ubc18\ud658\ud55c\ub2e4."
     ]
    },
    {
     "cell_type": "code",
     "collapsed": false,
     "input": [
      "class MySet(list):\n",
      "    def __init__(self, l):\n",
      "        for e in l:\n",
      "            self.append(e)\n",
      "        MySet.eliminate_duplicate(self)\n",
      "    \n",
      "    def __str__(self):\n",
      "        result = \"MySet: {\"\n",
      "        for e in self:\n",
      "            result = result + str(e) + \" ,\"\n",
      "        result = result[0:len(result)-2] + \"}\"\n",
      "        return result\n",
      "    def __or__(self, other):\n",
      "        uni = MySet([i for i in other])\n",
      "        for i in self:\n",
      "            if i not in other:\n",
      "                uni.append(i)\n",
      "        return uni\n",
      "    def __and__(self, other):\n",
      "        its = MySet([])\n",
      "        for i in self:\n",
      "            if i in other:\n",
      "                its.append(i)\n",
      "        return its\n",
      "    def __sub__(self, other):\n",
      "        sub = MySet([i for i in self])\n",
      "        its = self.__and__(other)\n",
      "        for i in its:\n",
      "            sub.remove(i)\n",
      "        return sub\n",
      "        \n",
      "    @staticmethod    \n",
      "    def eliminate_duplicate(l):\n",
      "        s = []\n",
      "        for e in l:\n",
      "            if e not in s:\n",
      "                s.append(e)\n",
      "        l[:] = []\n",
      "        for e in s:\n",
      "            l.append(e)\n",
      "    \n",
      "if __name__ == \"__main__\":\n",
      "    s = MySet([1, 2, 2, 3])\n",
      "    print s\n",
      "    t = MySet([2, 3, 4, 5, 6, 7, 8, 8, 8, 8, 8, 9])\n",
      "    print t\n",
      "    print \n",
      "    s = s | t\n",
      "    print s\n",
      "    print t\n",
      "    print \n",
      "    t = s & t\n",
      "    print s\n",
      "    print t\n",
      "    print \n",
      "    s = s - t\n",
      "    print s\n",
      "    print t"
     ],
     "language": "python",
     "metadata": {},
     "outputs": [
      {
       "output_type": "stream",
       "stream": "stdout",
       "text": [
        "MySet: {1 ,2 ,3}\n",
        "MySet: {2 ,3 ,4 ,5 ,6 ,7 ,8 ,9}\n",
        "\n",
        "MySet: {2 ,3 ,4 ,5 ,6 ,7 ,8 ,9 ,1}\n",
        "MySet: {2 ,3 ,4 ,5 ,6 ,7 ,8 ,9}\n",
        "\n",
        "MySet: {2 ,3 ,4 ,5 ,6 ,7 ,8 ,9 ,1}\n",
        "MySet: {2 ,3 ,4 ,5 ,6 ,7 ,8 ,9}\n",
        "\n",
        "MySet: {1}\n",
        "MySet: {2 ,3 ,4 ,5 ,6 ,7 ,8 ,9}\n"
       ]
      }
     ],
     "prompt_number": 15
    },
    {
     "cell_type": "markdown",
     "metadata": {},
     "source": [
      "\ubb38\uc81c\uc5d0\uc11c \uc81c\uc2dc\ud55c \uc5f0\uc0b0\uc790 |, &, -\ub97c \uc0ac\uc6a9\ud558\uae30 \uc704\ud574 \uac01\uac01\uc758 \uc5f0\uc0b0\uc790\uac00 \uac16\uace0\uc788\ub294 \uba54\uc18c\ub4dc\uba85\uc778  and, or, sub \uba54\uc18c\ub4dc\ub97c \uc624\ubc84\ub77c\uc774\ub529\ud558\uc600\ub2e4. \uac01\uac01\uc758 \uba54\uc18c\ub4dc\ub294 \ubc1b\uc544\ub4e4\uc5ec\uc628 \uc778\uc790\ub85c \uc0c8 MySet \ud074\ub798\uc2a4\ub97c \uc0dd\uc131\ud574 \uc6d0\uc18c\ub97c \ube44\uad50\ud558\uace0 \ucd94\uac00/\uc81c\uac70\ud558\ub294 \ubc29\uc2dd\uc73c\ub85c \uad6c\ud604\ud558\uc600\ub2e4. "
     ]
    },
    {
     "cell_type": "heading",
     "level": 1,
     "metadata": {},
     "source": [
      " "
     ]
    },
    {
     "cell_type": "markdown",
     "metadata": {},
     "source": [
      "<b>[6\ubc88 \ubb38\uc81c] 5\ubc88 \ubb38\uc81c\uc5d0\uc11c \uc815\uc758\ud55c MySet \ud074\ub798\uc2a4\uc5d0 \ub300\ud574 \ub2e4\uc74c \uc608\uc81c\ub97c \uc218\ud589\ud558\uba74 \uc624\ub958\uc5c6\uc774 \uc62c\ubc14\ub974\uac8c \ub3d9\uc791\ud558\ub294 \uac83\uc744 \ud655\uc778\ud560 \uc218 \uc788\ub2e4. \ub2e4\uc74c \uc608\uc81c \ub0b4\uc5d0 \uc788\ub294 len(), bool() \ub0b4\uc7a5\ud568\uc218\uc640 in \ud0a4\uc6cc\ub4dc \uc0ac\uc6a9 \uc608\uc81c\uac00 \ubcc4\ub2e4\ub978 \uba54\uc18c\ub4dc \uc815\uc758\ub97c \ud558\uc9c0 \uc54a\uc558\ub294 \ub370\ub3c4 \uc62c\ubc14\ub974\uac8c \uc218\ud589\ub418\ub294 \uc774\uc720\ub97c \uc124\uba85\ud558\uc2dc\uc624.</b>\n",
      "    >>> s = MySet([1, 2, 3, 4, 5, 6]) \n",
      "    >>> print len(s) \n",
      "    6 \n",
      "    >>> print bool(s) \n",
      "    True \n",
      "    >>> print 2 in s \n",
      "    True "
     ]
    },
    {
     "cell_type": "markdown",
     "metadata": {},
     "source": [
      "MySet\ud074\ub798\uc2a4\uac00 list\ud074\ub798\uc2a4\ub97c \uc0c1\uc18d(\uc11c\ube0c\ud074\ub798\uc2f1)\ud558\uc600\uae30 \ub54c\ubb38\uc774\ub2e4. \ub530\ub77c\uc11c list\uac00 \uc0ac\uc6a9\ud560 \uc218 \uc788\ub294 \uba54\uc18c\ub4dc\ub294 \uba54\uc18c\ub4dc \uc815\uc758\ub97c \ud558\uc9c0 \uc54a\uc544\ub3c4 \uc62c\ubc14\ub974\uac8c \uc218\ud589\uc774 \uac00\ub2a5\ud558\ub2e4."
     ]
    },
    {
     "cell_type": "heading",
     "level": 1,
     "metadata": {},
     "source": [
      " "
     ]
    },
    {
     "cell_type": "markdown",
     "metadata": {},
     "source": [
      "<b>[7\ubc88 \ubb38\uc81c] \uc774\uc804 Assignment 3 (Assignment 4\uac00 \uc544\ub2d8)\uc758 \ub9c8\uc9c0\ub9c9 \ubb38\uc81c\ub294 \uc6f9 URL\ub85c \uc9c0\uc815\ub41c \uc6f9\ud398\uc774\uc9c0\ub97c \ubb38\uc790\uc5f4\ub85c \uac00\uc838\uc640 \ubaa8\ub4e0 HTML \ud0dc\uadf8 \ubc0f CSS\uc640 Javascript\ub97c \uc81c\uc678\ud55c \uc21c\uc218 \ud14d\uc2a4\ud2b8\ub97c \uc5bb\uc5b4\ub0b4\uace0 \uadf8 \uc548\uc5d0 \uc874\uc7ac\ud558\ub294 \ub2e8\uc5b4\ub97c \ucd94\ucd9c\ud558\uc5ec \uac01 \ub2e8\uc5b4\ub4e4\uc5d0 \ub300\ud574 \ucd9c\ud604\ube48\ub3c4\ub97c \uc0ac\uc804\ud615\ud0dc({'world': 2, 'hello': 1, 'python': 1})\ub85c \uc800\uc7a5\ud558\uc5ec \ucd9c\ub825\ud558\ub294 \uac83\uc774\uc5c8\ub2e4. \uc774\ubc88\uc5d0\ub294 Assignment 3\uacfc Assignment 4\ub97c \ud655\uc7a5/\ubcc0\ud615\ud558\uc5ec \ub2e4\uc74c\uacfc \uac19\uc740 \uc870\uac74\uc744 \ub9cc\uc871\ud558\ub3c4\ub85d \uad6c\ud604\ud558\uc2dc\uc624.</b>\n",
      " - 1) \uc0c8\ub85c\uc6b4 \ud074\ub798\uc2a4 WebWordsFrequency\ub97c \uc815\uc758\ud558\uc2dc\uc624.\n",
      " - 2) \uc0dd\uc131\uc790\uc5d0 URL\uc744 0\uac1c\uc5d0\uc11c \uc784\uc758\uc758 \uac1c\uc218\ub97c \ub123\uc744 \uc218 \uc788\ub3c4\ub85d \uc0dd\uc131\uc790 \uc778\uc218\ub97c \uac00\ubcc0\uc778\uc218\ub85c \uc815\uc758\ud558\uc5ec \uac01\uac01\uc758 URL\uc744 \ub9ac\uc2a4\ud2b8 \uc790\ub8cc\ud615\uc5d0 \uc720\uc9c0\ud558\uc2dc\uc624.\n",
      " - 3) addUrl() \uba54\uc18c\ub4dc\ub97c \uad6c\ud604\ud558\uc5ec \uc778\uc2a4\ud134\uc2a4\ub97c \uc0dd\uc131\ud55c \uc774\ud6c4\uc5d0\ub3c4 URL\uc744 \ucd94\uac00\ud560 \uc218 \uc788\ub3c4\ub85d  \ud55c\ub2e4.\n",
      " - 4) removeUrl() \uba54\uc18c\ub4dc\ub97c \uad6c\ud604\ud558\uc5ec URL\uc744 \uc0ad\uc81c\ud560 \uc218 \uc788\ub3c4\ub85d \ud55c\ub2e4.\n",
      " - 5) listUrls() \uba54\uc18c\ub4dc\ub97c \uad6c\ud604\ud558\uc5ec \ud604\uc7ac \ub4f1\ub85d\ub41c \ubaa8\ub4e0 URL\uc744 \ucd9c\ub825\ud558\ub294 \uae30\ub2a5\uc744 \ucd94\uac00\n",
      " - 6) getWordsFrequency() \uba54\uc18c\ub4dc\ub97c \uad6c\ud604\ud558\uc5ec \uac01 URL\uc758 \uc6f9\ud398\uc774\uc9c0\ub4e4\uc744 \uc885\ud569\uc801\uc73c\ub85c \ubd84\uc11d\ud55c \ub2e8\uc5b4 \ucd9c\ud604 \ube48\ub3c4 \uc0ac\uc804\uc744 \ubc18\ud658\ud558\uc2dc\uc624.\n",
      " - 7) getMaxFreqencyWords() \uba54\uc18c\ub4dc\ub97c \uad6c\ud604\ud558\uc5ec \uac01 URL\uc758 \uc6f9\ud398\uc774\uc9c0\ub4e4\uc744 \uc885\ud569\uc801\uc73c\ub85c \ubd84\uc11d\ud55c \ub2e8\uc5b4 \ucd9c\ud604 \ube48\ub3c4 \uc0ac\uc804\uc5d0\uc11c \uac00\uc7a5 \ub9ce\uc774 \ucd9c\ud604\ud55c \ub2e8\uc5b4 \ub9ac\uc2a4\ud2b8\ub97c \ubc18\ud658\ud558\uc2dc\uc624.\n",
      " - 8) Assignment 4\uc5d0\uc11c \uc694\uad6c\ud588\ub358 \ud30c\uc77c\ub85c \uc800\uc7a5\ud558\ub294 \ucf54\ub4dc\ub294 \ubaa8\ub450 \uc0ad\uc81c\ud558\uc2dc\uc624."
     ]
    },
    {
     "cell_type": "code",
     "collapsed": false,
     "input": [
      "import urllib\n",
      "import string\n",
      "\n",
      "class WebWordsFrequency(list) :\n",
      "    def __init__(self, *args):\n",
      "        for i in args:\n",
      "            self.append(i)\n",
      "    def addUrl(self, url):\n",
      "        self.append(url)\n",
      "    def removeUrl(self, url):\n",
      "        self.remove(url)\n",
      "    def listUrls(self):\n",
      "        for i in self:\n",
      "            print i\n",
      "    def getWordsFrequency(self):\n",
      "        if self == []: return None\n",
      "        word_dict = []\n",
      "        for url in self:\n",
      "            source = urllib.urlopen(url).read()\n",
      "            len_source = len(source)\n",
      "            i = 0\n",
      "            while (i < len_source):\n",
      "                found = False\n",
      "                if (found != True and source[i] == \"<\" and source[i+1 : i+7].lower() == \"script\"):\n",
      "                    found = True;\n",
      "                    j = i + 7;\n",
      "                    while (True):\n",
      "                        if (source[j] == \"<\" and source[j+1] == \"/\" and source[j+2 : j+8].lower() == \"script\"):\n",
      "                            source = source[:i] + ' ' + source[j+9:]\n",
      "                            break\n",
      "                        j = j + 1\n",
      "                        if (j > len_source):\n",
      "                            break\n",
      "                    len_source = len(source)\n",
      "                i = i + 1\n",
      "            len_source = len(source)\n",
      "        \n",
      "            i = 0\n",
      "            while (i < len_source):\n",
      "                found = False\n",
      "                if (found != True and source[i] == \"<\" and source[i+1 : i+6].lower() == \"style\"):\n",
      "                    found = True;\n",
      "                    j = i + 6;\n",
      "                    while (True):\n",
      "                        if (source[j] == \"<\" and source[j+1] == \"/\" and source[j+2 : j+7].lower() == \"style\"):\n",
      "                            source = source[:i] + ' ' + source[j+8:]\n",
      "                            break\n",
      "                        j = j + 1\n",
      "                        if (j > len_source):\n",
      "                            break\n",
      "                    len_source = len(source)\n",
      "                i = i + 1\n",
      "        \n",
      "            len_source = len(source)\n",
      "        \n",
      "            i = 0\n",
      "            while (i < len_source):\n",
      "                found = False\n",
      "                if (found != True and source[i] == \"<\"):\n",
      "                    found = True;\n",
      "                    j = i + 1;\n",
      "                    while (True):\n",
      "                        if (source[j] == \">\"):\n",
      "                            source = source[:i] + ' ' + source[j+1:]\n",
      "                            break\n",
      "                        j = j + 1\n",
      "                        if (j > len_source):\n",
      "                            break\n",
      "                    len_source = len(source)\n",
      "                i = i + 1\n",
      "            words = source.split()\n",
      "            \n",
      "            c_dict = {}\n",
      "            f_word = [ w.strip(string.punctuation) for w in words ]\n",
      "            while ('' in f_word):\n",
      "                del f_word[f_word.index('')]\n",
      "            for i in f_word:\n",
      "                if(i in c_dict) : continue # \ud0a4\uac12\uc744 \uce74\uc6b4\ud2b8\ud574\uc11c \ub123\uae30\ub54c\ubb38\uc5d0 \ub610 \ub098\uc628\ub2e4\uba74 \ub118\uc5b4\uac04\ub2e4\n",
      "                else :\n",
      "                    c_dict[i] = f_word.count(i)\n",
      "            word_dict.append(c_dict)\n",
      "        return word_dict\n",
      "\n",
      "    def getMaxFreqencyWords(self):\n",
      "        if self == []: return None\n",
      "        d_list = []\n",
      "        for dic in self.getWordsFrequency():\n",
      "            for k, v in dic.items():\n",
      "                for j in range(int(v)):\n",
      "                    d_list.append(k)\n",
      "        d_dict = {}   \n",
      "        for i in d_list:\n",
      "            if(i in d_dict) : continue\n",
      "            else :\n",
      "                d_dict[i] = d_list.count(i)\n",
      "        max_value = max(d_dict.values())\n",
      "        for k, v in d_dict.items():\n",
      "            if v == max_value:\n",
      "                print \"Max Frequency Words: %s, %d\" % (k, v)\n",
      "\n",
      "w1 = WebWordsFrequency('https://www.google.co.uk', 'https://www.lush.co.uk')\n",
      "w1.listUrls()\n",
      "print \n",
      "w1.addUrl('http://link.koreatech.ac.kr')\n",
      "w1.listUrls()\n",
      "print\n",
      "w1.removeUrl('http://link.koreatech.ac.kr')\n",
      "w1.listUrls()\n",
      "print\n",
      "print w1.getWordsFrequency()\n",
      "w1.getMaxFreqencyWords()"
     ],
     "language": "python",
     "metadata": {},
     "outputs": [
      {
       "output_type": "stream",
       "stream": "stdout",
       "text": [
        "https://www.google.co.uk\n",
        "https://www.lush.co.uk\n",
        "\n",
        "https://www.google.co.uk\n",
        "https://www.lush.co.uk\n",
        "http://link.koreatech.ac.kr\n",
        "\n",
        "https://www.google.co.uk\n",
        "https://www.lush.co.uk\n",
        "\n",
        "[{'and': 1, 'Web': 1, 'Advertising&nbsp;Programmes': 1, 'Privacy': 1, 'Chrome': 1, 'Skydive': 1, 'parachute': 1, 'Maps': 1, 'nbsp': 1, 'in': 2, 'Sign': 1, 'tools': 1, 'More': 1, 'web': 1, 'Play': 1, 'Terms': 1, 'Business': 1, 'browse': 1, 'YouTube': 1, 'presents': 1, 'to': 1, 'reindeer': 1, 'way': 1, 'News': 1, 'Advanced': 1, 'A': 1, 'Search': 1, 'Santa': 1, 'Language': 1, 'Settings': 1, 'Google.com': 1, 'Drive': 1, 'Santa\\x92s': 1, 'Install': 1, '2014': 1, 'copy': 1, 'with': 2, 'History': 1, 'search': 1, 'Google': 4, 'faster': 1, 'times': 1, 'About': 1, 'raquo': 1, 'race': 1, 'Solutions': 1, 'UK': 1, 'Village': 1, 'Images': 1, 'the': 1, 'Gmail': 1}, {'1.228.221.237': 1, 'reference': 1, 'Fri': 1, 'address': 1, 'Handmade': 1, 'number': 1, 'Access': 1, 'www.lush.co.uk': 2, 'Cosmetics': 1, 'owner': 1, 'your': 2, '14:21:20': 1, 'Requested': 1, 'based': 1, 'Copyright': 1, 'Timestamp': 1, 'User-Agent': 1, 'access': 1, 'Error': 1, '197a915d3d1d1285': 1, 'denied': 1, '197a915d3d1d1285-ua48': 1, 'has': 1, '1010': 1, 'Python-urllib/1.17': 1, 'website': 1, 'URL': 1, 'IP': 1, 'banned': 1, 'Server': 1, '1995-2014': 1, \"browser's\": 1, 'FL_34F20': 1, 'Fresh': 1, 'The': 1, 'Retail': 1, 'ID': 2, 'GMT': 1, 'on': 1, 'this': 1, 'of': 1, 'Lush': 2, '\\xc2\\xa9': 1, '12-Dec-14': 1, 'signature': 1, 'Your': 1, 'Ltd': 1, 'Ray': 1}]"
       ]
      },
      {
       "output_type": "stream",
       "stream": "stdout",
       "text": [
        "\n",
        "Max Frequency Words: Google, 4"
       ]
      },
      {
       "output_type": "stream",
       "stream": "stdout",
       "text": [
        "\n"
       ]
      }
     ],
     "prompt_number": 4
    },
    {
     "cell_type": "markdown",
     "metadata": {},
     "source": [
      "\uae30\uc874\uc5d0 \uad6c\ud604\ub418\uc5b4 \uc788\ub358 \ucf54\ub4dc\ub97c \ud074\ub798\uc2a4 \ub0b4\ubd80\ub85c \uc62e\uae30\ub294 \uc791\uc5c5\ub9cc \uc218\ud589\ud588\ub2e4. "
     ]
    },
    {
     "cell_type": "heading",
     "level": 1,
     "metadata": {},
     "source": [
      " "
     ]
    },
    {
     "cell_type": "markdown",
     "metadata": {},
     "source": [
      "<b>[8\ubc88 \ubb38\uc81c] 7\ubc88 \ubb38\uc81c\uc5d0\uc11c \uc815\uc758\ud55c WebWordsFrequency \ud074\ub798\uc2a4\ub97c \uc0c1\uc18d\ud558\uc5ec OrderedWebWordsFrequency \ud074\ub798\uc2a4\ub97c \uc815\uc758\ud558\uace0 \uc288\ud37c\ud074\ub798\uc2a4\uc5d0 \uc815\uc758\ub41c getWordsFrequency() \uba54\uc18c\ub4dc\ub97c \uc624\ubc84\ub77c\uc774\ub4dc \ud558\uc5ec \ub2e8\uc5b4 \ucd9c\ud604 \ube48\ub3c4\ub97c \ub0b4\ub9bc \ucc28\uc21c\uc73c\ub85c \uc815\ub82c\ud558\uc5ec \ub9ac\uc2a4\ud2b8\ub85c \ucd9c\ub825\ud558\uc2dc\uc624.</b>"
     ]
    },
    {
     "cell_type": "code",
     "collapsed": false,
     "input": [
      "class OrderedWebWordsFrequency(WebWordsFrequency):\n",
      "    def getWordsFrequency(self):\n",
      "        # \uae30\uc874\uacfc \ub3d9\uc77c----------------------------------------- #\n",
      "        if self == []: return None\n",
      "        word_dict = []\n",
      "        for url in self:\n",
      "            source = urllib.urlopen(url).read()\n",
      "            len_source = len(source)\n",
      "            i = 0\n",
      "            while (i < len_source):\n",
      "                found = False\n",
      "                if (found != True and source[i] == \"<\" and source[i+1 : i+7].lower() == \"script\"):\n",
      "                    found = True;\n",
      "                    j = i + 7;\n",
      "                    while (True):\n",
      "                        if (source[j] == \"<\" and source[j+1] == \"/\" and source[j+2 : j+8].lower() == \"script\"):\n",
      "                            source = source[:i] + ' ' + source[j+9:]\n",
      "                            break\n",
      "                        j = j + 1\n",
      "                        if (j > len_source):\n",
      "                            break\n",
      "                    len_source = len(source)\n",
      "                i = i + 1\n",
      "            len_source = len(source)\n",
      "        \n",
      "            i = 0\n",
      "            while (i < len_source):\n",
      "                found = False\n",
      "                if (found != True and source[i] == \"<\" and source[i+1 : i+6].lower() == \"style\"):\n",
      "                    found = True;\n",
      "                    j = i + 6;\n",
      "                    while (True):\n",
      "                        if (source[j] == \"<\" and source[j+1] == \"/\" and source[j+2 : j+7].lower() == \"style\"):\n",
      "                            source = source[:i] + ' ' + source[j+8:]\n",
      "                            break\n",
      "                        j = j + 1\n",
      "                        if (j > len_source):\n",
      "                            break\n",
      "                    len_source = len(source)\n",
      "                i = i + 1\n",
      "        \n",
      "            len_source = len(source)\n",
      "        \n",
      "            i = 0\n",
      "            while (i < len_source):\n",
      "                found = False\n",
      "                if (found != True and source[i] == \"<\"):\n",
      "                    found = True;\n",
      "                    j = i + 1;\n",
      "                    while (True):\n",
      "                        if (source[j] == \">\"):\n",
      "                            source = source[:i] + ' ' + source[j+1:]\n",
      "                            break\n",
      "                        j = j + 1\n",
      "                        if (j > len_source):\n",
      "                            break\n",
      "                    len_source = len(source)\n",
      "                i = i + 1\n",
      "            words = source.split()\n",
      "            \n",
      "            c_dict = {}\n",
      "            f_word = [ w.strip(string.punctuation) for w in words ]\n",
      "            while ('' in f_word):\n",
      "                del f_word[f_word.index('')]\n",
      "            for i in f_word:\n",
      "                if(i in c_dict) : continue \n",
      "                else :\n",
      "                    c_dict[i] = f_word.count(i)\n",
      "            word_dict.append(c_dict)\n",
      "        # \uae30\uc874\uacfc \ub3d9\uc77c----------------------------------------- #\n",
      "        def mycmp(a, b):\n",
      "                return cmp(a[1], b[1])\n",
      "        word_dicts = []\n",
      "        for i in word_dict:\n",
      "            sort_list = []\n",
      "            for k, v in i.items():\n",
      "                sort_list.append((k, v))\n",
      "            sort_list.sort(mycmp, reverse = True)\n",
      "            word_dicts.append(sort_list)\n",
      "        return word_dicts\n",
      "\n",
      "w2 = OrderedWebWordsFrequency('https://www.google.co.uk', 'https://www.lush.co.uk')\n",
      "print w2.getWordsFrequency()"
     ],
     "language": "python",
     "metadata": {},
     "outputs": [
      {
       "output_type": "stream",
       "stream": "stdout",
       "text": [
        "[[('Google', 4), ('in', 2), ('with', 2), ('and', 1), ('Web', 1), ('Advertising&nbsp;Programmes', 1), ('Privacy', 1), ('Chrome', 1), ('Skydive', 1), ('parachute', 1), ('Maps', 1), ('nbsp', 1), ('Sign', 1), ('tools', 1), ('More', 1), ('web', 1), ('Play', 1), ('Terms', 1), ('Business', 1), ('browse', 1), ('YouTube', 1), ('presents', 1), ('to', 1), ('reindeer', 1), ('way', 1), ('News', 1), ('Advanced', 1), ('A', 1), ('Search', 1), ('Santa', 1), ('Language', 1), ('Settings', 1), ('Google.com', 1), ('Drive', 1), ('Santa\\x92s', 1), ('Install', 1), ('2014', 1), ('copy', 1), ('History', 1), ('search', 1), ('faster', 1), ('times', 1), ('About', 1), ('raquo', 1), ('race', 1), ('Solutions', 1), ('UK', 1), ('Village', 1), ('Images', 1), ('the', 1), ('Gmail', 1)], [('www.lush.co.uk', 2), ('your', 2), ('ID', 2), ('Lush', 2), ('1.228.221.237', 1), ('reference', 1), ('Fri', 1), ('address', 1), ('Handmade', 1), ('number', 1), ('Access', 1), ('Cosmetics', 1), ('owner', 1), ('Requested', 1), ('Retail', 1), ('based', 1), ('Copyright', 1), ('FL_34F2', 1), ('Timestamp', 1), ('User-Agent', 1), ('access', 1), ('Error', 1), ('Python-urllib/1.17', 1), ('denied', 1), ('has', 1), ('1010', 1), ('website', 1), ('URL', 1), ('IP', 1), ('banned', 1), ('197ab964c3ae05ef', 1), ('Server', 1), ('1995-2014', 1), (\"browser's\", 1), ('Fresh', 1), ('The', 1), ('197ab964c3ae05ef-ua48', 1), ('GMT', 1), ('on', 1), ('this', 1), ('of', 1), ('\\xc2\\xa9', 1), ('14:48:40', 1), ('12-Dec-14', 1), ('signature', 1), ('Your', 1), ('Ltd', 1), ('Ray', 1)]]\n"
       ]
      }
     ],
     "prompt_number": 18
    },
    {
     "cell_type": "markdown",
     "metadata": {},
     "source": [
      "\uae30\uc874\uacfc \uac19\uc740 \ucf54\ub4dc\ub97c \uc0ac\uc6a9\ud55c \ud6c4, \uc6d0\ub798 \ubc18\ud658\uac12\uc774\uc5c8\ub358 \uc0ac\uc804 \ub9ac\uc2a4\ud2b8\ub97c \uc0ac\uc6a9\ud574 \uc815\ub82c \ud6c4 \ub2e4\uc2dc \uc0ac\uc804\uc73c \ub2f4\uc740 \ub9ac\uc2a4\ud2b8\ub85c \ubc18\ud658\uc2dc\ucf30\ub2e4."
     ]
    },
    {
     "cell_type": "heading",
     "level": 1,
     "metadata": {},
     "source": [
      "  "
     ]
    },
    {
     "cell_type": "heading",
     "level": 6,
     "metadata": {},
     "source": [
      " "
     ]
    },
    {
     "cell_type": "markdown",
     "metadata": {},
     "source": [
      "<b>\uc18c\uac10</b> : \ud30c\uc774\uc36c\uc774\ub77c\ub294 \uc5b8\uc5b4\uc5d0 \ub300\ud574\uc11c \uc5b4\ub290\uc815\ub3c4 \uc774\ud574\uac00 \uac14\ub2e4 \uc2f6\uc5c8\ub294\ub370, \uacfc\uc81c\ub97c \ud558\uba74\uc11c \uc0c8\uc0bc \uc774\ud574\ub97c \ud588\uc744 \ubfd0 \ucf54\ub4dc\ub294 \uc5ec\uc804\ud788 \ubc18\ubcf5\uc801\uc774\uace0 \uc870\uc7a1\ud558\ub2e8 \ub290\ub08c\uc774 \ub4e4\uc5c8\ub2e4. \uc2dc\uac04\uc744 \ub4e4\uc5ec\uc11c \ucc9c\ucc9c\ud788 \uace0\uccd0\ub098\uac00\uc57c\uaca0\ub2e4\ub294 \uc0dd\uac01\uc744 \ud588\ub2e4."
     ]
    }
   ],
   "metadata": {}
  }
 ]
}